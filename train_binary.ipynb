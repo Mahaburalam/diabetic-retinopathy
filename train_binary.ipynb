{
 "cells": [
  {
   "cell_type": "code",
   "execution_count": 1,
   "id": "4a67652c-e0aa-43a6-abe5-8ecbee4a7c1d",
   "metadata": {},
   "outputs": [
    {
     "name": "stdout",
     "output_type": "stream",
     "text": [
      "Total learnable parameters: 1396642\n",
      "Data ready!\n"
     ]
    }
   ],
   "source": [
    "import torch\n",
    "import torch.nn as nn\n",
    "import torch.optim as optim\n",
    "from sklearn.metrics import accuracy_score, cohen_kappa_score\n",
    "from model import DRModel\n",
    "import import_ipynb\n",
    "from data_prepration import train_bin_loader, test_bin_loader\n",
    "#from data_preparation import train_bin_loader, test_bin_loader"
   ]
  },
  {
   "cell_type": "code",
   "execution_count": 2,
   "id": "ed96eda6-c90c-4ea3-b9f6-98cb57ba07eb",
   "metadata": {},
   "outputs": [],
   "source": [
    "device = torch.device('cuda' if torch.cuda.is_available() else 'cpu')\n",
    "model = DRModel(num_classes=2).to(device)\n",
    "criterion = nn.CrossEntropyLoss()\n",
    "optimizer = optim.SGD(model.parameters(), lr=0.001, momentum=0.9)"
   ]
  },
  {
   "cell_type": "code",
   "execution_count": 3,
   "id": "716b8b13-9d7d-4cfc-95aa-539ea343edd9",
   "metadata": {},
   "outputs": [
    {
     "name": "stdout",
     "output_type": "stream",
     "text": [
      "Epoch 1, Loss: 0.5579276007154713\n",
      "Epoch 2, Loss: 0.36119470129842346\n",
      "Epoch 3, Loss: 0.3068017493123594\n",
      "Epoch 4, Loss: 0.25631206320679706\n",
      "Epoch 5, Loss: 0.23443703482980313\n",
      "Epoch 6, Loss: 0.21801871450051016\n",
      "Epoch 7, Loss: 0.20257998484632242\n",
      "Epoch 8, Loss: 0.195762997088225\n",
      "Epoch 9, Loss: 0.19067174520181573\n",
      "Epoch 10, Loss: 0.18335661454045254\n",
      "Epoch 11, Loss: 0.19736800342798233\n",
      "Epoch 12, Loss: 0.17449565069830936\n",
      "Epoch 13, Loss: 0.17983838267948316\n",
      "Epoch 14, Loss: 0.17557290196418762\n",
      "Epoch 15, Loss: 0.14697820822829785\n",
      "Epoch 16, Loss: 0.15022624186847522\n",
      "Epoch 17, Loss: 0.14688335261915042\n",
      "Epoch 18, Loss: 0.14212449445672656\n",
      "Epoch 19, Loss: 0.14909582002007443\n",
      "Epoch 20, Loss: 0.14334850531557333\n",
      "Epoch 21, Loss: 0.14478452471287354\n",
      "Epoch 22, Loss: 0.1374476415955502\n",
      "Epoch 23, Loss: 0.13226548323164816\n",
      "Epoch 24, Loss: 0.12692376647306525\n",
      "Epoch 25, Loss: 0.12656124519265216\n",
      "Epoch 26, Loss: 0.12523868647606476\n",
      "Epoch 27, Loss: 0.12319763118158215\n",
      "Epoch 28, Loss: 0.10936327602552331\n",
      "Epoch 29, Loss: 0.11381547703691151\n",
      "Epoch 30, Loss: 0.1124698116403559\n",
      "Epoch 31, Loss: 0.10733430557276892\n",
      "Epoch 32, Loss: 0.11710001463475435\n",
      "Epoch 33, Loss: 0.10917544105778569\n",
      "Epoch 34, Loss: 0.10169766211639279\n",
      "Epoch 35, Loss: 0.10528568599535071\n",
      "Epoch 36, Loss: 0.10015354564656383\n",
      "Epoch 37, Loss: 0.08663678039675174\n",
      "Epoch 38, Loss: 0.09293067900706893\n",
      "Epoch 39, Loss: 0.09372055109428323\n",
      "Epoch 40, Loss: 0.08767690509557724\n",
      "Epoch 41, Loss: 0.09028361349002174\n",
      "Epoch 42, Loss: 0.08515760658875755\n",
      "Epoch 43, Loss: 0.07800375621603883\n",
      "Epoch 44, Loss: 0.08436533541459104\n",
      "Epoch 45, Loss: 0.0816720895793127\n",
      "Epoch 46, Loss: 0.08026924470196599\n",
      "Epoch 47, Loss: 0.07975414994618167\n",
      "Epoch 48, Loss: 0.08090944774448872\n",
      "Epoch 49, Loss: 0.07978555479127428\n",
      "Epoch 50, Loss: 0.07947850356931271\n",
      "Epoch 51, Loss: 0.07632666558999082\n",
      "Epoch 52, Loss: 0.0715265346933966\n",
      "Epoch 53, Loss: 0.07453799911815187\n",
      "Epoch 54, Loss: 0.07681973651051521\n",
      "Epoch 55, Loss: 0.07064379030919593\n",
      "Epoch 56, Loss: 0.07186743714239287\n",
      "Epoch 57, Loss: 0.06717324175912401\n",
      "Epoch 58, Loss: 0.06232727416183637\n",
      "Epoch 59, Loss: 0.06268230955237927\n",
      "Epoch 60, Loss: 0.06105632270159929\n",
      "Epoch 61, Loss: 0.06036130913897701\n",
      "Epoch 62, Loss: 0.07340641028207281\n",
      "Epoch 63, Loss: 0.07592977154190125\n",
      "Epoch 64, Loss: 0.08246418023886888\n",
      "Epoch 65, Loss: 0.06143943382346112\n",
      "Epoch 66, Loss: 0.06113461639894092\n",
      "Epoch 67, Loss: 0.065497278843237\n",
      "Epoch 68, Loss: 0.05412145623046419\n",
      "Epoch 69, Loss: 0.06407911144196987\n",
      "Epoch 70, Loss: 0.06289405586278957\n",
      "Epoch 71, Loss: 0.058984246955293675\n",
      "Epoch 72, Loss: 0.05888985405149667\n",
      "Epoch 73, Loss: 0.054695687459214874\n",
      "Epoch 74, Loss: 0.054398704077238624\n",
      "Epoch 75, Loss: 0.053359573545015374\n",
      "Epoch 76, Loss: 0.06024442617174076\n",
      "Epoch 77, Loss: 0.06293512386796267\n",
      "Epoch 78, Loss: 0.06682319574705932\n",
      "Epoch 79, Loss: 0.05512057200236165\n",
      "Epoch 80, Loss: 0.047162550177587116\n",
      "Epoch 81, Loss: 0.050113602581879364\n",
      "Epoch 82, Loss: 0.04689798819953981\n",
      "Epoch 83, Loss: 0.051133660923527634\n",
      "Epoch 84, Loss: 0.05107850140041631\n",
      "Epoch 85, Loss: 0.04433393182799868\n",
      "Epoch 86, Loss: 0.039647208486238254\n",
      "Epoch 87, Loss: 0.04563738239686126\n",
      "Epoch 88, Loss: 0.04508383693578451\n",
      "Epoch 89, Loss: 0.039435636292657124\n",
      "Epoch 90, Loss: 0.04240152984857559\n",
      "Epoch 91, Loss: 0.043608590393610626\n",
      "Epoch 92, Loss: 0.04366575064056594\n",
      "Epoch 93, Loss: 0.042960200985164745\n",
      "Epoch 94, Loss: 0.04311903165248425\n",
      "Epoch 95, Loss: 0.05027783014204191\n",
      "Epoch 96, Loss: 0.04468478841464157\n",
      "Epoch 97, Loss: 0.03962206476084564\n",
      "Epoch 98, Loss: 0.0459660153997981\n",
      "Epoch 99, Loss: 0.04732954943471629\n",
      "Epoch 100, Loss: 0.041483408285547856\n"
     ]
    }
   ],
   "source": [
    "for epoch in range(100):\n",
    "    model.train()\n",
    "    running_loss = 0.0\n",
    "    for inputs, labels in train_bin_loader:\n",
    "        inputs, labels = inputs.to(device), labels.to(device)\n",
    "        optimizer.zero_grad()\n",
    "        outputs = model(inputs)\n",
    "        loss = criterion(outputs, labels)\n",
    "        loss.backward()\n",
    "        optimizer.step()\n",
    "        running_loss += loss.item()\n",
    "    print(f\"Epoch {epoch+1}, Loss: {running_loss / len(train_bin_loader)}\")"
   ]
  },
  {
   "cell_type": "code",
   "execution_count": 4,
   "id": "b9d5c50e-ccb6-408d-b544-6bc4a078d3bf",
   "metadata": {},
   "outputs": [
    {
     "name": "stdout",
     "output_type": "stream",
     "text": [
      "Binary Accuracy: 90.45%, Kappa: 0.81\n"
     ]
    }
   ],
   "source": [
    "# Evaluate\n",
    "model.eval()\n",
    "preds, trues = [], []\n",
    "with torch.no_grad():\n",
    "    for inputs, labels in test_bin_loader:\n",
    "        inputs = inputs.to(device)\n",
    "        outputs = model(inputs)\n",
    "        _, predicted = torch.max(outputs, 1)\n",
    "        preds.extend(predicted.cpu().numpy())\n",
    "        trues.extend(labels.numpy())\n",
    "acc = accuracy_score(trues, preds)\n",
    "kappa = cohen_kappa_score(trues, preds)\n",
    "print(f\"Binary Accuracy: {acc*100:.2f}%, Kappa: {kappa:.2f}\")"
   ]
  },
  {
   "cell_type": "code",
   "execution_count": 5,
   "id": "c52486b6-28f2-43cb-b0d8-c61681634dcb",
   "metadata": {},
   "outputs": [],
   "source": [
    "# Save model\n",
    "torch.save(model.state_dict(), 'binary_model.pth')"
   ]
  },
  {
   "cell_type": "code",
   "execution_count": null,
   "id": "27db46f7-4215-4979-acd7-29abb20f999d",
   "metadata": {},
   "outputs": [],
   "source": []
  }
 ],
 "metadata": {
  "kernelspec": {
   "display_name": "Python 3 (ipykernel)",
   "language": "python",
   "name": "python3"
  },
  "language_info": {
   "codemirror_mode": {
    "name": "ipython",
    "version": 3
   },
   "file_extension": ".py",
   "mimetype": "text/x-python",
   "name": "python",
   "nbconvert_exporter": "python",
   "pygments_lexer": "ipython3",
   "version": "3.11.5"
  }
 },
 "nbformat": 4,
 "nbformat_minor": 5
}
