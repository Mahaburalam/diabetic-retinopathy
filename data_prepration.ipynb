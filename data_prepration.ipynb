{
 "cells": [
  {
   "cell_type": "code",
   "execution_count": 1,
   "id": "1728a3b5-9ff8-424d-b0b2-c6e956cb2aac",
   "metadata": {},
   "outputs": [],
   "source": [
    "import pandas as pd\n",
    "import os\n",
    "from sklearn.model_selection import train_test_split\n",
    "from torch.utils.data import Dataset, DataLoader\n",
    "from torchvision import transforms\n",
    "import torch\n",
    "import cv2"
   ]
  },
  {
   "cell_type": "code",
   "execution_count": 2,
   "id": "741c62ce-c429-484d-9de5-66c3fe6c22fc",
   "metadata": {},
   "outputs": [],
   "source": [
    "data_dir = 'data/train_images'\n",
    "csv_file = 'data/train.csv'"
   ]
  },
  {
   "cell_type": "code",
   "execution_count": 3,
   "id": "ba7d57df-246b-4377-92fe-03e280ed31e7",
   "metadata": {},
   "outputs": [],
   "source": [
    "df = pd.read_csv(csv_file)"
   ]
  },
  {
   "cell_type": "code",
   "execution_count": 4,
   "id": "fe1cbfb0-2af0-43d3-b6d2-4c6f6fc9b863",
   "metadata": {},
   "outputs": [],
   "source": [
    "# Compute approximate means for zero-center (or calculate from dataset)\n",
    "mean = [0.485, 0.456, 0.406]  # Standard ImageNet means; adjust if needed\n",
    "std = [0.229, 0.224, 0.225]"
   ]
  },
  {
   "cell_type": "code",
   "execution_count": 5,
   "id": "ec9364ed-a1a0-46a2-8d9a-42c0c9f4c910",
   "metadata": {},
   "outputs": [],
   "source": [
    "# Transforms for training (augmentation) and testing\n",
    "train_transform = transforms.Compose([\n",
    "    transforms.ToPILImage(),\n",
    "    transforms.RandomHorizontalFlip(),\n",
    "    transforms.RandomRotation(30),\n",
    "    transforms.RandomResizedCrop(227, scale=(0.8, 1.2)),\n",
    "    transforms.RandomAffine(degrees=0, translate=(0.1, 0.1)),\n",
    "    transforms.ToTensor(),\n",
    "    transforms.Normalize(mean=mean, std=std)  # Zero-center approx\n",
    "])\n",
    "\n",
    "test_transform = transforms.Compose([\n",
    "    transforms.ToPILImage(),\n",
    "    transforms.Resize(227),\n",
    "    transforms.CenterCrop(227),\n",
    "    transforms.ToTensor(),\n",
    "    transforms.Normalize(mean=mean, std=std)\n",
    "])"
   ]
  },
  {
   "cell_type": "code",
   "execution_count": 6,
   "id": "28ee0158-0e13-48c2-9aaa-7eecc2c6a230",
   "metadata": {},
   "outputs": [],
   "source": [
    "class DRDataset(Dataset):\n",
    "    def __init__(self, df, transform=None, is_binary=True):\n",
    "        self.df = df\n",
    "        self.transform = transform\n",
    "        self.is_binary = is_binary\n",
    "\n",
    "    def __len__(self):\n",
    "        return len(self.df)\n",
    "\n",
    "    def __getitem__(self, idx):\n",
    "        img_name = os.path.join(data_dir, self.df.iloc[idx, 0] + '.png')\n",
    "        image = cv2.imread(img_name)\n",
    "        image = cv2.cvtColor(image, cv2.COLOR_BGR2RGB)\n",
    "        label = self.df.iloc[idx, 1]\n",
    "        if self.is_binary:\n",
    "            label = 0 if label == 0 else 1  # Binary: 0=no DR, 1=DR\n",
    "        else:\n",
    "            if label == 0: return None  # Skip no-DR for severity\n",
    "            label -= 1  # Severity: 0=mild, 1=moderate, 2=severe, 3=proliferative\n",
    "        if self.transform:\n",
    "            image = self.transform(image)\n",
    "        return image, label"
   ]
  },
  {
   "cell_type": "code",
   "execution_count": 7,
   "id": "d09418ab-59ac-457d-ab80-225260c003f6",
   "metadata": {},
   "outputs": [],
   "source": [
    "# For binary\n",
    "binary_df = df.copy()\n",
    "train_bin_df, test_bin_df = train_test_split(binary_df, test_size=0.2, \n",
    "stratify=binary_df['diagnosis'], random_state=42)\n",
    "\n",
    "train_bin_dataset = DRDataset(train_bin_df, train_transform, is_binary=True)\n",
    "test_bin_dataset = DRDataset(test_bin_df, test_transform, is_binary=True)"
   ]
  },
  {
   "cell_type": "code",
   "execution_count": 8,
   "id": "dc116e6a-950e-44f4-ac13-683fe58f2095",
   "metadata": {},
   "outputs": [],
   "source": [
    "# For severity (filter DR only)\n",
    "severity_df = df[df['diagnosis'] > 0]\n",
    "train_sev_df, test_sev_df = train_test_split(severity_df, test_size=0.2, stratify=severity_df['diagnosis'], random_state=42)\n",
    "train_sev_dataset = DRDataset(train_sev_df, train_transform, is_binary=False)\n",
    "test_sev_dataset = DRDataset(test_sev_df, test_transform, is_binary=False)"
   ]
  },
  {
   "cell_type": "code",
   "execution_count": 9,
   "id": "d4783a22-8ce4-46eb-ba82-74ac256b1d26",
   "metadata": {},
   "outputs": [],
   "source": [
    "# DataLoaders (batch=128 as in paper)\n",
    "batch_size = 128\n",
    "train_bin_loader = DataLoader(train_bin_dataset, batch_size=batch_size, shuffle=True)\n",
    "test_bin_loader = DataLoader(test_bin_dataset, batch_size=batch_size, shuffle=False)\n",
    "train_sev_loader = DataLoader(train_sev_dataset, batch_size=batch_size, shuffle=True)\n",
    "test_sev_loader = DataLoader(test_sev_dataset, batch_size=batch_size, shuffle=False)"
   ]
  },
  {
   "cell_type": "code",
   "execution_count": 10,
   "id": "a4b70237-691c-41d2-90f8-b37d2790e3d0",
   "metadata": {},
   "outputs": [
    {
     "name": "stdout",
     "output_type": "stream",
     "text": [
      "Data ready!\n"
     ]
    }
   ],
   "source": [
    "print(\"Data ready!\")"
   ]
  },
  {
   "cell_type": "code",
   "execution_count": null,
   "id": "da51fa6d-4c28-4251-aa1d-e48b1e9a91a3",
   "metadata": {},
   "outputs": [],
   "source": []
  }
 ],
 "metadata": {
  "kernelspec": {
   "display_name": "Python 3 (ipykernel)",
   "language": "python",
   "name": "python3"
  },
  "language_info": {
   "codemirror_mode": {
    "name": "ipython",
    "version": 3
   },
   "file_extension": ".py",
   "mimetype": "text/x-python",
   "name": "python",
   "nbconvert_exporter": "python",
   "pygments_lexer": "ipython3",
   "version": "3.11.5"
  }
 },
 "nbformat": 4,
 "nbformat_minor": 5
}
