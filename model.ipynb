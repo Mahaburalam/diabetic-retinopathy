{
 "cells": [
  {
   "cell_type": "code",
   "execution_count": 1,
   "id": "64ef6b25-1cd7-4f74-a2a5-e657d73cc5b6",
   "metadata": {},
   "outputs": [],
   "source": [
    "import torch.nn as nn"
   ]
  },
  {
   "cell_type": "code",
   "execution_count": 2,
   "id": "4cc68270-40f7-4b55-85c9-fb13dd91c6ad",
   "metadata": {},
   "outputs": [],
   "source": [
    "class ConvBlock(nn.Module):\n",
    "    def __init__(self, in_c, out_c):\n",
    "        super().__init__()\n",
    "        self.conv = nn.Conv2d(in_c, out_c, kernel_size=3, padding=1)\n",
    "        self.bn = nn.BatchNorm2d(out_c)\n",
    "        self.relu = nn.ReLU()\n",
    "\n",
    "    def forward(self, x):\n",
    "        return self.relu(self.bn(self.conv(x)))"
   ]
  },
  {
   "cell_type": "code",
   "execution_count": 3,
   "id": "872da84b-0e13-4b35-8472-c323df33c72b",
   "metadata": {},
   "outputs": [],
   "source": [
    "class ParallelAdd(nn.Module):\n",
    "    def __init__(self, in_c, out_c):\n",
    "        super().__init__()\n",
    "        self.branch1 = ConvBlock(in_c, out_c)\n",
    "        self.branch2 = ConvBlock(in_c, out_c)\n",
    "\n",
    "    def forward(self, x):\n",
    "        return self.branch1(x) + self.branch2(x)"
   ]
  },
  {
   "cell_type": "code",
   "execution_count": 4,
   "id": "a3a22ffc-7dfa-45e5-a5bb-4aa89824327c",
   "metadata": {},
   "outputs": [],
   "source": [
    "class DRModel(nn.Module):\n",
    "    def __init__(self, num_classes=2):\n",
    "        super().__init__()\n",
    "        self.features = nn.Sequential(\n",
    "            ConvBlock(3, 32),\n",
    "            ConvBlock(32, 32),\n",
    "            nn.MaxPool2d(2),\n",
    "            ConvBlock(32, 64),\n",
    "            ConvBlock(64, 64),\n",
    "            nn.MaxPool2d(2),\n",
    "            ParallelAdd(64, 64),  # Parallel branch (add for residual effect)\n",
    "            ConvBlock(64, 128),\n",
    "            nn.MaxPool2d(2),\n",
    "            ConvBlock(128, 128),\n",
    "            ConvBlock(128, 128),\n",
    "            nn.MaxPool2d(2),\n",
    "            ConvBlock(128, 256),\n",
    "            ConvBlock(256, 256),\n",
    "            nn.MaxPool2d(2),\n",
    "            nn.AdaptiveAvgPool2d(1),\n",
    "        )\n",
    "        self.classifier = nn.Linear(256, num_classes)  # Last layer to replace in transfer\n",
    "\n",
    "    def forward(self, x):\n",
    "        x = self.features(x)\n",
    "        x = x.view(x.size(0), -1)\n",
    "        x = self.classifier(x)\n",
    "        return x"
   ]
  },
  {
   "cell_type": "code",
   "execution_count": 5,
   "id": "00cf0e9b-c8da-46cf-8f1b-ba242438417a",
   "metadata": {},
   "outputs": [
    {
     "name": "stdout",
     "output_type": "stream",
     "text": [
      "Total learnable parameters: 1396642\n"
     ]
    }
   ],
   "source": [
    "# Test params\n",
    "model = DRModel()\n",
    "total_params = sum(p.numel() for p in model.parameters() if p.requires_grad)\n",
    "print(f\"Total learnable parameters: {total_params}\")"
   ]
  },
  {
   "cell_type": "code",
   "execution_count": null,
   "id": "49b8d447-8cfb-44a0-b0e3-9c605985d786",
   "metadata": {},
   "outputs": [],
   "source": []
  }
 ],
 "metadata": {
  "kernelspec": {
   "display_name": "Python 3 (ipykernel)",
   "language": "python",
   "name": "python3"
  },
  "language_info": {
   "codemirror_mode": {
    "name": "ipython",
    "version": 3
   },
   "file_extension": ".py",
   "mimetype": "text/x-python",
   "name": "python",
   "nbconvert_exporter": "python",
   "pygments_lexer": "ipython3",
   "version": "3.11.5"
  }
 },
 "nbformat": 4,
 "nbformat_minor": 5
}
